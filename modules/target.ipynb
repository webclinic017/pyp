{
 "cells": [
  {
   "cell_type": "code",
   "execution_count": 39,
   "metadata": {},
   "outputs": [],
   "source": [
    "import tushare as ts\n",
    "from pandas import DataFrame, Series\n",
    "import pandas as pd"
   ]
  },
  {
   "cell_type": "code",
   "execution_count": 61,
   "metadata": {},
   "outputs": [],
   "source": [
    "pro = ts.pro_api(\"6848a1962cda9db1a4f7410fc876acaced030e98e635923e2d2fad66\")\n",
    "\n",
    "# df = pro.daily(**{\n",
    "#   'start_date': '20220805',\n",
    "# })\n",
    "\n",
    "# df = df[::-1]\n",
    "# df.to_csv(\"../stock_basic/stock_basic_daily_20220805\")"
   ]
  },
  {
   "cell_type": "code",
   "execution_count": 62,
   "metadata": {},
   "outputs": [
    {
     "name": "stdout",
     "output_type": "stream",
     "text": [
      "           trade_date   open   high    low  close  pre_close  change  pct_chg  \\\n",
      "ts_code                                                                         \n",
      "000001.SZ    20220805  12.13  12.33  11.98  12.31      12.16    0.15   1.2336   \n",
      "000002.SZ    20220805  16.23  16.47  16.13  16.46      16.23    0.23   1.4171   \n",
      "000004.SZ    20220805   9.40   9.73   9.29   9.47       9.27    0.20   2.1575   \n",
      "000005.SZ    20220805   1.76   1.77   1.74   1.75       1.76   -0.01  -0.5682   \n",
      "000006.SZ    20220805   4.04   4.09   4.03   4.09       4.04    0.05   1.2376   \n",
      "...               ...    ...    ...    ...    ...        ...     ...      ...   \n",
      "871981.BJ    20220805  17.50  17.78  17.36  17.78      17.50    0.28   1.6000   \n",
      "872925.BJ    20220805  15.90  15.99  15.88  15.88      15.78    0.10   0.6337   \n",
      "873169.BJ    20220805   6.22   6.29   6.20   6.29       6.22    0.07   1.1254   \n",
      "873223.BJ    20220805   3.78   3.83   3.78   3.81       3.80    0.01   0.2632   \n",
      "689009.SH    20220805  53.61  54.70  52.31  54.45      53.80    0.65   1.2082   \n",
      "\n",
      "                 vol      amount  \n",
      "ts_code                           \n",
      "000001.SZ  765297.87  930836.354  \n",
      "000002.SZ  377145.61  615628.063  \n",
      "000004.SZ   59468.36   56902.232  \n",
      "000005.SZ   54143.46    9486.663  \n",
      "000006.SZ   60214.33   24452.356  \n",
      "...              ...         ...  \n",
      "871981.BJ    2585.81    4561.044  \n",
      "872925.BJ     152.00     241.937  \n",
      "873169.BJ    1912.45    1195.335  \n",
      "873223.BJ    8855.77    3362.169  \n",
      "689009.SH   34381.29  183584.512  \n",
      "\n",
      "[4849 rows x 10 columns]\n"
     ]
    }
   ],
   "source": [
    "# 获取本地所有股票代码数据源\n",
    "df = pd.read_csv(\"../stock_basic/stock_basic_daily_20220805.csv\")\n",
    "df.drop(labels=\"Unnamed: 0\", axis='columns', inplace=True)\n",
    "df.set_index('ts_code', inplace=True)\n",
    "print(df)"
   ]
  },
  {
   "cell_type": "code",
   "execution_count": 63,
   "metadata": {},
   "outputs": [
    {
     "name": "stdout",
     "output_type": "stream",
     "text": [
      "           trade_date   open   high    low  close  pre_close  change  pct_chg  \\\n",
      "ts_code                                                                         \n",
      "000564.SZ    20220805   0.99   1.00   0.98   0.99       0.99    0.00   0.0000   \n",
      "002113.SZ    20220805   1.21   1.27   1.21   1.24       1.22    0.02   1.6393   \n",
      "000732.SZ    20220805   1.21   1.24   1.20   1.21       1.22   -0.01  -0.8197   \n",
      "002503.SZ    20220805   1.27   1.28   1.25   1.27       1.27    0.00   0.0000   \n",
      "600221.SH    20220805   1.28   1.32   1.27   1.31       1.28    0.03   2.3438   \n",
      "...               ...    ...    ...    ...    ...        ...     ...      ...   \n",
      "600273.SH    20220805   9.99  10.10   9.88  10.07       9.97    0.10   1.0030   \n",
      "300462.SZ    20220805  10.00  10.35  10.00  10.32      10.15    0.17   1.6749   \n",
      "300288.SZ    20220805  10.00  10.27   9.98  10.27       9.98    0.29   2.9058   \n",
      "300348.SZ    20220805  10.00  11.55   9.97  11.20       9.68    1.52  15.7025   \n",
      "300453.SZ    20220805  10.00  10.05   9.91   9.99      10.00   -0.01  -0.1000   \n",
      "\n",
      "                 vol      amount  \n",
      "ts_code                           \n",
      "000564.SZ  567409.83   56180.142  \n",
      "002113.SZ  254396.50   31475.552  \n",
      "000732.SZ  476774.00   58078.040  \n",
      "002503.SZ  335872.63   42489.843  \n",
      "600221.SH  830875.94  107439.311  \n",
      "...              ...         ...  \n",
      "600273.SH  144013.86  143734.948  \n",
      "300462.SZ   26820.00   27518.965  \n",
      "300288.SZ   50660.00   51456.334  \n",
      "300348.SZ  618689.16  677391.678  \n",
      "300453.SZ   44802.04   44713.403  \n",
      "\n",
      "[2070 rows x 10 columns]\n"
     ]
    }
   ],
   "source": [
    "# 选股\n",
    "# 当天股价在 0 - 10 之间\n",
    "conditions = df['open'].between(0, 10)\n",
    "target_df = df[conditions]\n",
    "target_df = target_df.sort_values(by=['open'])\n",
    "\n",
    "print(target_df)"
   ]
  },
  {
   "cell_type": "code",
   "execution_count": 77,
   "metadata": {},
   "outputs": [],
   "source": [
    "for row in target_df[:10].iterrows():\n",
    "  ts_code = row[0]\n",
    "  df_daily = pro.daily(**{\n",
    "    'ts_code': ts_code,\n",
    "  })\n",
    "  df_daily.to_csv(\"../daily/\" + ts_code + \".csv\")\n",
    "# print(df_daily)"
   ]
  },
  {
   "cell_type": "code",
   "execution_count": null,
   "metadata": {},
   "outputs": [],
   "source": []
  }
 ],
 "metadata": {
  "kernelspec": {
   "display_name": "Python 3.10.5 64-bit",
   "language": "python",
   "name": "python3"
  },
  "language_info": {
   "codemirror_mode": {
    "name": "ipython",
    "version": 3
   },
   "file_extension": ".py",
   "mimetype": "text/x-python",
   "name": "python",
   "nbconvert_exporter": "python",
   "pygments_lexer": "ipython3",
   "version": "3.10.5"
  },
  "orig_nbformat": 4,
  "vscode": {
   "interpreter": {
    "hash": "aee8b7b246df8f9039afb4144a1f6fd8d2ca17a180786b69acc140d282b71a49"
   }
  }
 },
 "nbformat": 4,
 "nbformat_minor": 2
}
