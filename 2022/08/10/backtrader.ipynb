{
 "cells": [
  {
   "cell_type": "code",
   "execution_count": 1,
   "metadata": {},
   "outputs": [
    {
     "name": "stdout",
     "output_type": "stream",
     "text": [
      "Starting Portfolio Value: 10000.00\n",
      "Final Portfolio Value: 10000.00\n"
     ]
    }
   ],
   "source": [
    "import backtrader as bt\n",
    "import datetime\n",
    "\n",
    "class TestStrategy(bt.Strategy):\n",
    "  \"\"\"\n",
    "  继承并构建自己的 bt 策略\n",
    "  \"\"\"\n",
    "\n",
    "  def log(self, txt, dt=None, doprint=False):\n",
    "    '''日志函数，用于统一输出日志格式'''\n",
    "    if doprint:\n",
    "      dt = dt or self.datas[0]\n",
    "  \n",
    "  def __init__(self):\n",
    "    # 初始化相关数据\n",
    "    self.dataclose = self.datas[0].close\n",
    "    self.order = None\n",
    "    self.buyprice = None\n",
    "    self.buycomm = None\n",
    "\n",
    "if __name__ == '__main__':\n",
    "  # 初始化模型\n",
    "  cerebro = bt.Cerebro()\n",
    "\n",
    "  # 构建策略\n",
    "  starts = cerebro.addstrategy(TestStrategy)\n",
    "  # 每次买100股\n",
    "  cerebro.addsizer(bt.sizer.FixedSize, stake=100)\n",
    "\n",
    "  # 加载数据到模型中\n",
    "  data = bt.feeds.GenericCSVData(\n",
    "    dataname='../../../daily/601857.SH.csv',\n",
    "    fromdate=datetime.datetime(2010, 1, 1),\n",
    "    todate=datetime.datetime(2020, 4, 12),\n",
    "    dtformat='%Y%m%d',\n",
    "    datetime=2,\n",
    "    open=3,\n",
    "    high=4,\n",
    "    low=5,\n",
    "    close=6,\n",
    "    volume=10\n",
    "  )\n",
    "\n",
    "  cerebro.adddata(data)\n",
    "\n",
    "  # 设定初始资金和佣金\n",
    "  cerebro.broker.setcash(3000)\n",
    "  cerebro.broker.setcommission(0.005)\n",
    "  \n",
    "  # 策略执行前的资金\n",
    "  print('启动资金: %.2f' % cerebro.broker.getvalue())\n",
    "\n",
    "  cerebro.run()\n",
    "\n",
    "  # print('Final Portfolio Value: %.2f' % cerebro.broker.getvalue())"
   ]
  }
 ],
 "metadata": {
  "kernelspec": {
   "display_name": "Python 3.10.5 64-bit",
   "language": "python",
   "name": "python3"
  },
  "language_info": {
   "codemirror_mode": {
    "name": "ipython",
    "version": 3
   },
   "file_extension": ".py",
   "mimetype": "text/x-python",
   "name": "python",
   "nbconvert_exporter": "python",
   "pygments_lexer": "ipython3",
   "version": "3.10.5"
  },
  "orig_nbformat": 4,
  "vscode": {
   "interpreter": {
    "hash": "aee8b7b246df8f9039afb4144a1f6fd8d2ca17a180786b69acc140d282b71a49"
   }
  }
 },
 "nbformat": 4,
 "nbformat_minor": 2
}
