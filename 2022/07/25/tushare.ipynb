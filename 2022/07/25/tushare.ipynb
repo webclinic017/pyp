{
 "cells": [
  {
   "cell_type": "code",
   "execution_count": 2,
   "metadata": {},
   "outputs": [],
   "source": [
    "import tushare as ts\n",
    "import pandas as pd\n"
   ]
  },
  {
   "cell_type": "code",
   "execution_count": 11,
   "metadata": {},
   "outputs": [
    {
     "name": "stdout",
     "output_type": "stream",
     "text": [
      "        ts_code trade_date   open   high    low  close  pre_close  change  \\\n",
      "0     600036.SH   20220722  35.55  36.05  35.25  35.59      35.46    0.13   \n",
      "1     600036.SH   20220721  35.54  35.83  35.37  35.46      35.85   -0.39   \n",
      "2     600036.SH   20220720  35.94  36.12  35.71  35.85      35.71    0.14   \n",
      "3     600036.SH   20220719  35.50  35.85  35.20  35.71      35.63    0.08   \n",
      "4     600036.SH   20220718  35.15  35.84  35.01  35.63      34.87    0.76   \n",
      "...         ...        ...    ...    ...    ...    ...        ...     ...   \n",
      "4850  600036.SH   20020415  10.57  10.60  10.35  10.39      10.57   -0.18   \n",
      "4851  600036.SH   20020412  10.50  10.64  10.48  10.57      10.52    0.05   \n",
      "4852  600036.SH   20020411  10.60  10.68  10.49  10.52      10.60   -0.08   \n",
      "4853  600036.SH   20020410  10.66  10.70  10.39  10.60      10.66   -0.06   \n",
      "4854  600036.SH   20020409  10.51  10.88  10.51  10.66       7.30    3.36   \n",
      "\n",
      "      pct_chg         vol       amount  \n",
      "0      0.3666   510332.74  1817477.340  \n",
      "1     -1.0879   466240.82  1656137.612  \n",
      "2      0.3920   469688.71  1685116.916  \n",
      "3      0.2245   537813.84  1910448.534  \n",
      "4      2.1795   903080.21  3202227.202  \n",
      "...       ...         ...          ...  \n",
      "4850  -1.7000   185311.04   193306.921  \n",
      "4851   0.4800   212564.63   224059.896  \n",
      "4852  -0.7500   227882.55   240963.540  \n",
      "4853  -0.5600   679454.75   716684.277  \n",
      "4854  46.0300  4141088.31  4418821.513  \n",
      "\n",
      "[4855 rows x 11 columns]\n"
     ]
    }
   ],
   "source": [
    "\n",
    "# 初始化pro接口\n",
    "pro = ts.pro_api('6848a1962cda9db1a4f7410fc876acaced030e98e635923e2d2fad66')\n",
    "\n",
    "# 拉取数据\n",
    "df = pro.daily(**{\n",
    "    \"ts_code\": \"600036.SH\",\n",
    "    \"trade_date\": \"\",\n",
    "    \"start_date\": \"\",\n",
    "    \"end_date\": \"\",\n",
    "    \"offset\": \"\",\n",
    "    \"limit\": \"\"\n",
    "}, fields=[\n",
    "    \"ts_code\",\n",
    "    \"trade_date\",\n",
    "    \"open\",\n",
    "    \"high\",\n",
    "    \"low\",\n",
    "    \"close\",\n",
    "    \"pre_close\",\n",
    "    \"change\",\n",
    "    \"pct_chg\",\n",
    "    \"vol\",\n",
    "    \"amount\"\n",
    "])\n",
    "print(df)\n",
    "\n",
    "        "
   ]
  },
  {
   "cell_type": "code",
   "execution_count": null,
   "metadata": {},
   "outputs": [],
   "source": []
  }
 ],
 "metadata": {
  "kernelspec": {
   "display_name": "Python 3.9.12 ('base')",
   "language": "python",
   "name": "python3"
  },
  "language_info": {
   "codemirror_mode": {
    "name": "ipython",
    "version": 3
   },
   "file_extension": ".py",
   "mimetype": "text/x-python",
   "name": "python",
   "nbconvert_exporter": "python",
   "pygments_lexer": "ipython3",
   "version": "3.9.12"
  },
  "orig_nbformat": 4,
  "vscode": {
   "interpreter": {
    "hash": "720e7685d86a62007a98c446278ca4a74c99c1c21fe57d1c8387c6833ce3df87"
   }
  }
 },
 "nbformat": 4,
 "nbformat_minor": 2
}
