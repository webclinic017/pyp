{
 "cells": [
  {
   "cell_type": "code",
   "execution_count": 2,
   "metadata": {},
   "outputs": [],
   "source": [
    "import numpy as np\n",
    "import matplotlib.pyplot as plt"
   ]
  },
  {
   "cell_type": "markdown",
   "metadata": {},
   "source": [
    "1. 创建一个一维数组"
   ]
  },
  {
   "cell_type": "code",
   "execution_count": 4,
   "metadata": {},
   "outputs": [
    {
     "data": {
      "text/plain": [
       "(3,)"
      ]
     },
     "execution_count": 4,
     "metadata": {},
     "output_type": "execute_result"
    }
   ],
   "source": [
    "n1 = np.array([1, 2, 3], dtype=\"int32\")\n",
    "n1.shape"
   ]
  },
  {
   "cell_type": "markdown",
   "metadata": {},
   "source": [
    "2. 创建一个多维数组"
   ]
  },
  {
   "cell_type": "code",
   "execution_count": 6,
   "metadata": {},
   "outputs": [
    {
     "data": {
      "text/plain": [
       "array([[1, 2],\n",
       "       [3, 4]])"
      ]
     },
     "execution_count": 6,
     "metadata": {},
     "output_type": "execute_result"
    }
   ],
   "source": [
    "n2 = np.array([[1, 2], [3, 4]])\n",
    "n2"
   ]
  },
  {
   "cell_type": "markdown",
   "metadata": {},
   "source": [
    "3. Numpy的数组与Python传统列表有什么区别"
   ]
  },
  {
   "cell_type": "markdown",
   "metadata": {},
   "source": [
    "1. ndarray 创建的时候就分配了固定的内存大小，若改变大小，相当于销毁当前对象，新建一个并重新分配内存大小\n",
    "2. ndarray 每个元素都必须是同一类型，若存在多种不同类型，则会自动往内存占用空间大的类型转型，类型转换优先级: 字符串 > 浮点型 > 整型\n",
    "3. numpy 更适合大量的高级数学运算，相比原生Python代码，精简了许多计算代码，写更少的代码，就能获取更多的算力"
   ]
  },
  {
   "cell_type": "markdown",
   "metadata": {},
   "source": [
    "4. 将外部的一张图片读取加载到numpy数组中，然后尝试改变数组元素的数值查看对原始图片的影响"
   ]
  },
  {
   "cell_type": "code",
   "execution_count": 3,
   "metadata": {},
   "outputs": [
    {
     "data": {
      "text/plain": [
       "array([[[229, 223, 211],\n",
       "        [227, 221, 207],\n",
       "        [207, 201, 187],\n",
       "        ...,\n",
       "        [223, 217, 205],\n",
       "        [184, 177, 167],\n",
       "        [222, 215, 207]],\n",
       "\n",
       "       [[212, 206, 194],\n",
       "        [219, 213, 199],\n",
       "        [216, 210, 196],\n",
       "        ...,\n",
       "        [228, 222, 210],\n",
       "        [210, 203, 193],\n",
       "        [225, 218, 210]],\n",
       "\n",
       "       [[215, 209, 197],\n",
       "        [225, 219, 207],\n",
       "        [222, 216, 202],\n",
       "        ...,\n",
       "        [210, 204, 192],\n",
       "        [203, 197, 185],\n",
       "        [221, 214, 204]],\n",
       "\n",
       "       ...,\n",
       "\n",
       "       [[215, 209, 195],\n",
       "        [220, 214, 200],\n",
       "        [223, 217, 203],\n",
       "        ...,\n",
       "        [228, 221, 211],\n",
       "        [225, 218, 208],\n",
       "        [231, 224, 214]],\n",
       "\n",
       "       [[218, 212, 198],\n",
       "        [217, 211, 197],\n",
       "        [219, 213, 199],\n",
       "        ...,\n",
       "        [228, 222, 210],\n",
       "        [228, 221, 211],\n",
       "        [233, 226, 216]],\n",
       "\n",
       "       [[199, 193, 179],\n",
       "        [208, 202, 188],\n",
       "        [222, 216, 202],\n",
       "        ...,\n",
       "        [221, 215, 203],\n",
       "        [225, 219, 207],\n",
       "        [225, 219, 207]]], dtype=uint8)"
      ]
     },
     "execution_count": 3,
     "metadata": {},
     "output_type": "execute_result"
    }
   ],
   "source": [
    "n4 = plt.imread(\"../../../image/d1.jpeg\")\n",
    "n4"
   ]
  },
  {
   "cell_type": "markdown",
   "metadata": {},
   "source": [
    "5. 分别使用 `linespace` & `arrange` 创建一个等差数列"
   ]
  },
  {
   "cell_type": "markdown",
   "metadata": {},
   "source": [
    "6. 创建一个0~100的5行4列随机整型数组"
   ]
  },
  {
   "cell_type": "markdown",
   "metadata": {},
   "source": [
    "7. numpy 常用属性使用"
   ]
  },
  {
   "cell_type": "markdown",
   "metadata": {},
   "source": [
    "8. 创建一个 `size=(5, 6)` 的随机数组，取出第1,3,5行数据"
   ]
  },
  {
   "cell_type": "markdown",
   "metadata": {},
   "source": [
    "9. 创建一个 `size=(5, 6)` 的随机数组，切出前两行数据"
   ]
  },
  {
   "cell_type": "markdown",
   "metadata": {},
   "source": [
    "10. 创建一个 `size=(5, 6)` 的随机数组，切出前两列数据"
   ]
  },
  {
   "cell_type": "markdown",
   "metadata": {},
   "source": [
    "11. 创建一个 `size=(5, 6)` 的随机数组，切出前两行的前两列数据"
   ]
  },
  {
   "cell_type": "markdown",
   "metadata": {},
   "source": [
    "12. 创建一个 `size=(5, 6)` 的随机数组，将数组的行倒置"
   ]
  },
  {
   "cell_type": "markdown",
   "metadata": {},
   "source": [
    "13. 创建一个 `size=(5, 6)` 的随机数组，将数组的列倒置"
   ]
  },
  {
   "cell_type": "markdown",
   "metadata": {},
   "source": [
    "14. 创建一个 `size=(5, 6)` 的随机数组，将数组行、列都倒置"
   ]
  },
  {
   "cell_type": "markdown",
   "metadata": {},
   "source": [
    "15. 将一张图片进行左右、上下翻转"
   ]
  },
  {
   "cell_type": "markdown",
   "metadata": {},
   "source": [
    "16. 将一张图片进行裁剪"
   ]
  },
  {
   "cell_type": "markdown",
   "metadata": {},
   "source": [
    "17. 将一个5行6列的二维数组，变形为1维数组；再将1维数组转为3行10列"
   ]
  },
  {
   "cell_type": "markdown",
   "metadata": {},
   "source": [
    "18. 级联操作：将多个numpy数组进行横向或纵向拼接。(特殊场景：行列个数不一样)"
   ]
  },
  {
   "cell_type": "markdown",
   "metadata": {},
   "source": [
    "19. 级联操作场景应用：将多张图片拼接在一起"
   ]
  },
  {
   "cell_type": "markdown",
   "metadata": {},
   "source": [
    "20. 创建一个 `size=(5, 6)` 的随机数组，分别求出每一行、每一列的sum、max"
   ]
  },
  {
   "cell_type": "markdown",
   "metadata": {},
   "source": [
    "21. 计算标准差、方差"
   ]
  },
  {
   "cell_type": "markdown",
   "metadata": {},
   "source": [
    "22. 计算数组中元素最大值与最小值的差"
   ]
  },
  {
   "cell_type": "markdown",
   "metadata": {},
   "source": [
    "23. 矩阵转置"
   ]
  },
  {
   "cell_type": "code",
   "execution_count": 9,
   "metadata": {},
   "outputs": [
    {
     "name": "stdout",
     "output_type": "stream",
     "text": [
      "[[97 11 40  1 90 25]\n",
      " [77 63 90 23 47 36]\n",
      " [94 64 79 86 16 74]\n",
      " [59 23 61 92 34 35]\n",
      " [88 19 47 98 35 88]]\n",
      "[[97 77 94 59 88]\n",
      " [11 63 64 23 19]\n",
      " [40 90 79 61 47]\n",
      " [ 1 23 86 92 98]\n",
      " [90 47 16 34 35]\n",
      " [25 36 74 35 88]]\n"
     ]
    }
   ],
   "source": [
    "arr23 = np.random.randint(0, 100, (5,6))\n",
    "print(arr23)\n",
    "print(arr23.T)"
   ]
  },
  {
   "cell_type": "markdown",
   "metadata": {},
   "source": [
    "24. 矩阵相乘"
   ]
  },
  {
   "cell_type": "code",
   "execution_count": 10,
   "metadata": {},
   "outputs": [
    {
     "data": {
      "text/plain": [
       "array([[19856, 16915, 16358, 12443, 16073],\n",
       "       [16915, 22032, 23774, 16456, 19270],\n",
       "       [16358, 23774, 32301, 22883, 28701],\n",
       "       [12443, 16456, 22883, 18576, 21782],\n",
       "       [16073, 19270, 28701, 21782, 28887]])"
      ]
     },
     "execution_count": 10,
     "metadata": {},
     "output_type": "execute_result"
    }
   ],
   "source": [
    "np.dot(arr23, arr23.T)"
   ]
  },
  {
   "cell_type": "code",
   "execution_count": null,
   "metadata": {},
   "outputs": [],
   "source": []
  }
 ],
 "metadata": {
  "kernelspec": {
   "display_name": "Python 3.9.12 ('base')",
   "language": "python",
   "name": "python3"
  },
  "language_info": {
   "codemirror_mode": {
    "name": "ipython",
    "version": 3
   },
   "file_extension": ".py",
   "mimetype": "text/x-python",
   "name": "python",
   "nbconvert_exporter": "python",
   "pygments_lexer": "ipython3",
   "version": "3.9.12"
  },
  "orig_nbformat": 4,
  "vscode": {
   "interpreter": {
    "hash": "720e7685d86a62007a98c446278ca4a74c99c1c21fe57d1c8387c6833ce3df87"
   }
  }
 },
 "nbformat": 4,
 "nbformat_minor": 2
}
