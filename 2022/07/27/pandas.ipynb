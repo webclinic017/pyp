{
 "cells": [
  {
   "cell_type": "code",
   "execution_count": 21,
   "metadata": {},
   "outputs": [],
   "source": [
    "import numpy as np\n",
    "import pandas as pd"
   ]
  },
  {
   "cell_type": "code",
   "execution_count": 2,
   "metadata": {},
   "outputs": [
    {
     "data": {
      "text/plain": [
       "0    1.0\n",
       "1    2.0\n",
       "2    3.0\n",
       "3    NaN\n",
       "4    6.0\n",
       "5    7.0\n",
       "dtype: float64"
      ]
     },
     "execution_count": 2,
     "metadata": {},
     "output_type": "execute_result"
    }
   ],
   "source": [
    "s = pd.Series([1, 2, 3, np.nan, 6, 7])\n",
    "s"
   ]
  },
  {
   "cell_type": "code",
   "execution_count": 3,
   "metadata": {},
   "outputs": [
    {
     "data": {
      "text/plain": [
       "DatetimeIndex(['2022-07-27', '2022-07-28', '2022-07-29', '2022-07-30',\n",
       "               '2022-07-31', '2022-08-01'],\n",
       "              dtype='datetime64[ns]', freq='D')"
      ]
     },
     "execution_count": 3,
     "metadata": {},
     "output_type": "execute_result"
    }
   ],
   "source": [
    "dates = pd.date_range('20220727', periods=6)\n",
    "dates"
   ]
  },
  {
   "cell_type": "code",
   "execution_count": 22,
   "metadata": {},
   "outputs": [
    {
     "data": {
      "text/plain": [
       "Timestamp('2022-07-27 00:00:00', freq='D')"
      ]
     },
     "execution_count": 22,
     "metadata": {},
     "output_type": "execute_result"
    }
   ],
   "source": [
    "dates[0]"
   ]
  },
  {
   "cell_type": "code",
   "execution_count": 5,
   "metadata": {},
   "outputs": [
    {
     "data": {
      "text/html": [
       "<div>\n",
       "<style scoped>\n",
       "    .dataframe tbody tr th:only-of-type {\n",
       "        vertical-align: middle;\n",
       "    }\n",
       "\n",
       "    .dataframe tbody tr th {\n",
       "        vertical-align: top;\n",
       "    }\n",
       "\n",
       "    .dataframe thead th {\n",
       "        text-align: right;\n",
       "    }\n",
       "</style>\n",
       "<table border=\"1\" class=\"dataframe\">\n",
       "  <thead>\n",
       "    <tr style=\"text-align: right;\">\n",
       "      <th></th>\n",
       "      <th>A</th>\n",
       "      <th>B</th>\n",
       "      <th>C</th>\n",
       "      <th>D</th>\n",
       "    </tr>\n",
       "  </thead>\n",
       "  <tbody>\n",
       "    <tr>\n",
       "      <th>2022-07-27</th>\n",
       "      <td>-1.115718</td>\n",
       "      <td>-0.671506</td>\n",
       "      <td>-0.922049</td>\n",
       "      <td>0.408290</td>\n",
       "    </tr>\n",
       "    <tr>\n",
       "      <th>2022-07-28</th>\n",
       "      <td>-1.678373</td>\n",
       "      <td>-0.930149</td>\n",
       "      <td>-0.221813</td>\n",
       "      <td>-1.721030</td>\n",
       "    </tr>\n",
       "    <tr>\n",
       "      <th>2022-07-29</th>\n",
       "      <td>0.253641</td>\n",
       "      <td>-0.369561</td>\n",
       "      <td>-0.804516</td>\n",
       "      <td>-1.095727</td>\n",
       "    </tr>\n",
       "    <tr>\n",
       "      <th>2022-07-30</th>\n",
       "      <td>-0.374743</td>\n",
       "      <td>0.221641</td>\n",
       "      <td>1.124470</td>\n",
       "      <td>1.549557</td>\n",
       "    </tr>\n",
       "    <tr>\n",
       "      <th>2022-07-31</th>\n",
       "      <td>1.578156</td>\n",
       "      <td>-0.542343</td>\n",
       "      <td>1.332091</td>\n",
       "      <td>1.031771</td>\n",
       "    </tr>\n",
       "    <tr>\n",
       "      <th>2022-08-01</th>\n",
       "      <td>0.023276</td>\n",
       "      <td>-0.178938</td>\n",
       "      <td>0.620372</td>\n",
       "      <td>-0.994165</td>\n",
       "    </tr>\n",
       "  </tbody>\n",
       "</table>\n",
       "</div>"
      ],
      "text/plain": [
       "                   A         B         C         D\n",
       "2022-07-27 -1.115718 -0.671506 -0.922049  0.408290\n",
       "2022-07-28 -1.678373 -0.930149 -0.221813 -1.721030\n",
       "2022-07-29  0.253641 -0.369561 -0.804516 -1.095727\n",
       "2022-07-30 -0.374743  0.221641  1.124470  1.549557\n",
       "2022-07-31  1.578156 -0.542343  1.332091  1.031771\n",
       "2022-08-01  0.023276 -0.178938  0.620372 -0.994165"
      ]
     },
     "execution_count": 5,
     "metadata": {},
     "output_type": "execute_result"
    }
   ],
   "source": [
    "df = pd.DataFrame(np.random.randn(6, 4), index=dates, columns=list(\"ABCD\"))\n",
    "df"
   ]
  },
  {
   "cell_type": "code",
   "execution_count": 10,
   "metadata": {},
   "outputs": [
    {
     "data": {
      "text/html": [
       "<div>\n",
       "<style scoped>\n",
       "    .dataframe tbody tr th:only-of-type {\n",
       "        vertical-align: middle;\n",
       "    }\n",
       "\n",
       "    .dataframe tbody tr th {\n",
       "        vertical-align: top;\n",
       "    }\n",
       "\n",
       "    .dataframe thead th {\n",
       "        text-align: right;\n",
       "    }\n",
       "</style>\n",
       "<table border=\"1\" class=\"dataframe\">\n",
       "  <thead>\n",
       "    <tr style=\"text-align: right;\">\n",
       "      <th></th>\n",
       "      <th>A</th>\n",
       "      <th>B</th>\n",
       "      <th>C</th>\n",
       "      <th>D</th>\n",
       "      <th>E</th>\n",
       "      <th>F</th>\n",
       "    </tr>\n",
       "  </thead>\n",
       "  <tbody>\n",
       "    <tr>\n",
       "      <th>0</th>\n",
       "      <td>1.0</td>\n",
       "      <td>2022-07-27</td>\n",
       "      <td>1.0</td>\n",
       "      <td>3</td>\n",
       "      <td>Test</td>\n",
       "      <td>foot</td>\n",
       "    </tr>\n",
       "    <tr>\n",
       "      <th>1</th>\n",
       "      <td>2.0</td>\n",
       "      <td>2022-07-27</td>\n",
       "      <td>1.0</td>\n",
       "      <td>3</td>\n",
       "      <td>train</td>\n",
       "      <td>foot</td>\n",
       "    </tr>\n",
       "    <tr>\n",
       "      <th>2</th>\n",
       "      <td>3.0</td>\n",
       "      <td>2022-07-27</td>\n",
       "      <td>1.0</td>\n",
       "      <td>3</td>\n",
       "      <td>test</td>\n",
       "      <td>foot</td>\n",
       "    </tr>\n",
       "    <tr>\n",
       "      <th>3</th>\n",
       "      <td>4.0</td>\n",
       "      <td>2022-07-27</td>\n",
       "      <td>1.0</td>\n",
       "      <td>3</td>\n",
       "      <td>train</td>\n",
       "      <td>foot</td>\n",
       "    </tr>\n",
       "  </tbody>\n",
       "</table>\n",
       "</div>"
      ],
      "text/plain": [
       "     A          B    C  D      E     F\n",
       "0  1.0 2022-07-27  1.0  3   Test  foot\n",
       "1  2.0 2022-07-27  1.0  3  train  foot\n",
       "2  3.0 2022-07-27  1.0  3   test  foot\n",
       "3  4.0 2022-07-27  1.0  3  train  foot"
      ]
     },
     "execution_count": 10,
     "metadata": {},
     "output_type": "execute_result"
    }
   ],
   "source": [
    "df2 = pd.DataFrame({\n",
    "  'A': [1., 2., 3, 4],\n",
    "  'B': pd.Timestamp('20220727'),\n",
    "  'C': pd.Series(1, index=list(range(4)), dtype='float32'),\n",
    "  'D': np.array([3] * 4, dtype='int32'),\n",
    "  'E': pd.Categorical([\"Test\", 'train', 'test', 'train']),\n",
    "  'F': 'foot'\n",
    "})\n",
    "df2"
   ]
  },
  {
   "cell_type": "code",
   "execution_count": 11,
   "metadata": {},
   "outputs": [
    {
     "data": {
      "text/plain": [
       "A           float64\n",
       "B    datetime64[ns]\n",
       "C           float32\n",
       "D             int32\n",
       "E          category\n",
       "F            object\n",
       "dtype: object"
      ]
     },
     "execution_count": 11,
     "metadata": {},
     "output_type": "execute_result"
    }
   ],
   "source": [
    "df2.dtypes"
   ]
  },
  {
   "cell_type": "code",
   "execution_count": 12,
   "metadata": {},
   "outputs": [
    {
     "data": {
      "text/html": [
       "<div>\n",
       "<style scoped>\n",
       "    .dataframe tbody tr th:only-of-type {\n",
       "        vertical-align: middle;\n",
       "    }\n",
       "\n",
       "    .dataframe tbody tr th {\n",
       "        vertical-align: top;\n",
       "    }\n",
       "\n",
       "    .dataframe thead th {\n",
       "        text-align: right;\n",
       "    }\n",
       "</style>\n",
       "<table border=\"1\" class=\"dataframe\">\n",
       "  <thead>\n",
       "    <tr style=\"text-align: right;\">\n",
       "      <th></th>\n",
       "      <th>A</th>\n",
       "      <th>B</th>\n",
       "      <th>C</th>\n",
       "      <th>D</th>\n",
       "    </tr>\n",
       "  </thead>\n",
       "  <tbody>\n",
       "    <tr>\n",
       "      <th>2022-07-27</th>\n",
       "      <td>-1.115718</td>\n",
       "      <td>-0.671506</td>\n",
       "      <td>-0.922049</td>\n",
       "      <td>0.408290</td>\n",
       "    </tr>\n",
       "    <tr>\n",
       "      <th>2022-07-28</th>\n",
       "      <td>-1.678373</td>\n",
       "      <td>-0.930149</td>\n",
       "      <td>-0.221813</td>\n",
       "      <td>-1.721030</td>\n",
       "    </tr>\n",
       "    <tr>\n",
       "      <th>2022-07-29</th>\n",
       "      <td>0.253641</td>\n",
       "      <td>-0.369561</td>\n",
       "      <td>-0.804516</td>\n",
       "      <td>-1.095727</td>\n",
       "    </tr>\n",
       "    <tr>\n",
       "      <th>2022-07-30</th>\n",
       "      <td>-0.374743</td>\n",
       "      <td>0.221641</td>\n",
       "      <td>1.124470</td>\n",
       "      <td>1.549557</td>\n",
       "    </tr>\n",
       "    <tr>\n",
       "      <th>2022-07-31</th>\n",
       "      <td>1.578156</td>\n",
       "      <td>-0.542343</td>\n",
       "      <td>1.332091</td>\n",
       "      <td>1.031771</td>\n",
       "    </tr>\n",
       "  </tbody>\n",
       "</table>\n",
       "</div>"
      ],
      "text/plain": [
       "                   A         B         C         D\n",
       "2022-07-27 -1.115718 -0.671506 -0.922049  0.408290\n",
       "2022-07-28 -1.678373 -0.930149 -0.221813 -1.721030\n",
       "2022-07-29  0.253641 -0.369561 -0.804516 -1.095727\n",
       "2022-07-30 -0.374743  0.221641  1.124470  1.549557\n",
       "2022-07-31  1.578156 -0.542343  1.332091  1.031771"
      ]
     },
     "execution_count": 12,
     "metadata": {},
     "output_type": "execute_result"
    }
   ],
   "source": [
    "df.head()"
   ]
  },
  {
   "cell_type": "code",
   "execution_count": 13,
   "metadata": {},
   "outputs": [
    {
     "data": {
      "text/html": [
       "<div>\n",
       "<style scoped>\n",
       "    .dataframe tbody tr th:only-of-type {\n",
       "        vertical-align: middle;\n",
       "    }\n",
       "\n",
       "    .dataframe tbody tr th {\n",
       "        vertical-align: top;\n",
       "    }\n",
       "\n",
       "    .dataframe thead th {\n",
       "        text-align: right;\n",
       "    }\n",
       "</style>\n",
       "<table border=\"1\" class=\"dataframe\">\n",
       "  <thead>\n",
       "    <tr style=\"text-align: right;\">\n",
       "      <th></th>\n",
       "      <th>A</th>\n",
       "      <th>B</th>\n",
       "      <th>C</th>\n",
       "      <th>D</th>\n",
       "    </tr>\n",
       "  </thead>\n",
       "  <tbody>\n",
       "    <tr>\n",
       "      <th>2022-07-30</th>\n",
       "      <td>-0.374743</td>\n",
       "      <td>0.221641</td>\n",
       "      <td>1.124470</td>\n",
       "      <td>1.549557</td>\n",
       "    </tr>\n",
       "    <tr>\n",
       "      <th>2022-07-31</th>\n",
       "      <td>1.578156</td>\n",
       "      <td>-0.542343</td>\n",
       "      <td>1.332091</td>\n",
       "      <td>1.031771</td>\n",
       "    </tr>\n",
       "    <tr>\n",
       "      <th>2022-08-01</th>\n",
       "      <td>0.023276</td>\n",
       "      <td>-0.178938</td>\n",
       "      <td>0.620372</td>\n",
       "      <td>-0.994165</td>\n",
       "    </tr>\n",
       "  </tbody>\n",
       "</table>\n",
       "</div>"
      ],
      "text/plain": [
       "                   A         B         C         D\n",
       "2022-07-30 -0.374743  0.221641  1.124470  1.549557\n",
       "2022-07-31  1.578156 -0.542343  1.332091  1.031771\n",
       "2022-08-01  0.023276 -0.178938  0.620372 -0.994165"
      ]
     },
     "execution_count": 13,
     "metadata": {},
     "output_type": "execute_result"
    }
   ],
   "source": [
    "df.tail(3)"
   ]
  },
  {
   "cell_type": "code",
   "execution_count": 14,
   "metadata": {},
   "outputs": [
    {
     "data": {
      "text/plain": [
       "DatetimeIndex(['2022-07-27', '2022-07-28', '2022-07-29', '2022-07-30',\n",
       "               '2022-07-31', '2022-08-01'],\n",
       "              dtype='datetime64[ns]', freq='D')"
      ]
     },
     "execution_count": 14,
     "metadata": {},
     "output_type": "execute_result"
    }
   ],
   "source": [
    "df.index"
   ]
  },
  {
   "cell_type": "code",
   "execution_count": 15,
   "metadata": {},
   "outputs": [
    {
     "data": {
      "text/plain": [
       "Index(['A', 'B', 'C', 'D'], dtype='object')"
      ]
     },
     "execution_count": 15,
     "metadata": {},
     "output_type": "execute_result"
    }
   ],
   "source": [
    "df.columns"
   ]
  },
  {
   "cell_type": "code",
   "execution_count": 16,
   "metadata": {},
   "outputs": [
    {
     "data": {
      "text/plain": [
       "array([[-1.11571819, -0.67150593, -0.922049  ,  0.4082902 ],\n",
       "       [-1.67837251, -0.93014862, -0.22181338, -1.72102978],\n",
       "       [ 0.25364094, -0.36956111, -0.80451598, -1.09572712],\n",
       "       [-0.3747435 ,  0.22164117,  1.12447042,  1.54955708],\n",
       "       [ 1.57815587, -0.5423428 ,  1.33209108,  1.03177121],\n",
       "       [ 0.02327622, -0.17893815,  0.62037201, -0.99416516]])"
      ]
     },
     "execution_count": 16,
     "metadata": {},
     "output_type": "execute_result"
    }
   ],
   "source": [
    "df.to_numpy()"
   ]
  },
  {
   "cell_type": "code",
   "execution_count": 17,
   "metadata": {},
   "outputs": [
    {
     "data": {
      "text/plain": [
       "array([[1.0, Timestamp('2022-07-27 00:00:00'), 1.0, 3, 'Test', 'foot'],\n",
       "       [2.0, Timestamp('2022-07-27 00:00:00'), 1.0, 3, 'train', 'foot'],\n",
       "       [3.0, Timestamp('2022-07-27 00:00:00'), 1.0, 3, 'test', 'foot'],\n",
       "       [4.0, Timestamp('2022-07-27 00:00:00'), 1.0, 3, 'train', 'foot']],\n",
       "      dtype=object)"
      ]
     },
     "execution_count": 17,
     "metadata": {},
     "output_type": "execute_result"
    }
   ],
   "source": [
    "df2.to_numpy()\n"
   ]
  },
  {
   "cell_type": "code",
   "execution_count": 18,
   "metadata": {},
   "outputs": [
    {
     "data": {
      "text/html": [
       "<div>\n",
       "<style scoped>\n",
       "    .dataframe tbody tr th:only-of-type {\n",
       "        vertical-align: middle;\n",
       "    }\n",
       "\n",
       "    .dataframe tbody tr th {\n",
       "        vertical-align: top;\n",
       "    }\n",
       "\n",
       "    .dataframe thead th {\n",
       "        text-align: right;\n",
       "    }\n",
       "</style>\n",
       "<table border=\"1\" class=\"dataframe\">\n",
       "  <thead>\n",
       "    <tr style=\"text-align: right;\">\n",
       "      <th></th>\n",
       "      <th>A</th>\n",
       "      <th>B</th>\n",
       "      <th>C</th>\n",
       "      <th>D</th>\n",
       "    </tr>\n",
       "  </thead>\n",
       "  <tbody>\n",
       "    <tr>\n",
       "      <th>count</th>\n",
       "      <td>6.000000</td>\n",
       "      <td>6.000000</td>\n",
       "      <td>6.000000</td>\n",
       "      <td>6.000000</td>\n",
       "    </tr>\n",
       "    <tr>\n",
       "      <th>mean</th>\n",
       "      <td>-0.218960</td>\n",
       "      <td>-0.411809</td>\n",
       "      <td>0.188093</td>\n",
       "      <td>-0.136884</td>\n",
       "    </tr>\n",
       "    <tr>\n",
       "      <th>std</th>\n",
       "      <td>1.137540</td>\n",
       "      <td>0.402599</td>\n",
       "      <td>0.975511</td>\n",
       "      <td>1.316881</td>\n",
       "    </tr>\n",
       "    <tr>\n",
       "      <th>min</th>\n",
       "      <td>-1.678373</td>\n",
       "      <td>-0.930149</td>\n",
       "      <td>-0.922049</td>\n",
       "      <td>-1.721030</td>\n",
       "    </tr>\n",
       "    <tr>\n",
       "      <th>25%</th>\n",
       "      <td>-0.930475</td>\n",
       "      <td>-0.639215</td>\n",
       "      <td>-0.658840</td>\n",
       "      <td>-1.070337</td>\n",
       "    </tr>\n",
       "    <tr>\n",
       "      <th>50%</th>\n",
       "      <td>-0.175734</td>\n",
       "      <td>-0.455952</td>\n",
       "      <td>0.199279</td>\n",
       "      <td>-0.292937</td>\n",
       "    </tr>\n",
       "    <tr>\n",
       "      <th>75%</th>\n",
       "      <td>0.196050</td>\n",
       "      <td>-0.226594</td>\n",
       "      <td>0.998446</td>\n",
       "      <td>0.875901</td>\n",
       "    </tr>\n",
       "    <tr>\n",
       "      <th>max</th>\n",
       "      <td>1.578156</td>\n",
       "      <td>0.221641</td>\n",
       "      <td>1.332091</td>\n",
       "      <td>1.549557</td>\n",
       "    </tr>\n",
       "  </tbody>\n",
       "</table>\n",
       "</div>"
      ],
      "text/plain": [
       "              A         B         C         D\n",
       "count  6.000000  6.000000  6.000000  6.000000\n",
       "mean  -0.218960 -0.411809  0.188093 -0.136884\n",
       "std    1.137540  0.402599  0.975511  1.316881\n",
       "min   -1.678373 -0.930149 -0.922049 -1.721030\n",
       "25%   -0.930475 -0.639215 -0.658840 -1.070337\n",
       "50%   -0.175734 -0.455952  0.199279 -0.292937\n",
       "75%    0.196050 -0.226594  0.998446  0.875901\n",
       "max    1.578156  0.221641  1.332091  1.549557"
      ]
     },
     "execution_count": 18,
     "metadata": {},
     "output_type": "execute_result"
    }
   ],
   "source": [
    "df.describe()"
   ]
  },
  {
   "cell_type": "code",
   "execution_count": 19,
   "metadata": {},
   "outputs": [
    {
     "data": {
      "text/html": [
       "<div>\n",
       "<style scoped>\n",
       "    .dataframe tbody tr th:only-of-type {\n",
       "        vertical-align: middle;\n",
       "    }\n",
       "\n",
       "    .dataframe tbody tr th {\n",
       "        vertical-align: top;\n",
       "    }\n",
       "\n",
       "    .dataframe thead th {\n",
       "        text-align: right;\n",
       "    }\n",
       "</style>\n",
       "<table border=\"1\" class=\"dataframe\">\n",
       "  <thead>\n",
       "    <tr style=\"text-align: right;\">\n",
       "      <th></th>\n",
       "      <th>A</th>\n",
       "      <th>B</th>\n",
       "      <th>C</th>\n",
       "      <th>D</th>\n",
       "    </tr>\n",
       "  </thead>\n",
       "  <tbody>\n",
       "    <tr>\n",
       "      <th>2022-07-27</th>\n",
       "      <td>-1.115718</td>\n",
       "      <td>-0.671506</td>\n",
       "      <td>-0.922049</td>\n",
       "      <td>0.408290</td>\n",
       "    </tr>\n",
       "    <tr>\n",
       "      <th>2022-07-28</th>\n",
       "      <td>-1.678373</td>\n",
       "      <td>-0.930149</td>\n",
       "      <td>-0.221813</td>\n",
       "      <td>-1.721030</td>\n",
       "    </tr>\n",
       "    <tr>\n",
       "      <th>2022-07-29</th>\n",
       "      <td>0.253641</td>\n",
       "      <td>-0.369561</td>\n",
       "      <td>-0.804516</td>\n",
       "      <td>-1.095727</td>\n",
       "    </tr>\n",
       "    <tr>\n",
       "      <th>2022-07-30</th>\n",
       "      <td>-0.374743</td>\n",
       "      <td>0.221641</td>\n",
       "      <td>1.124470</td>\n",
       "      <td>1.549557</td>\n",
       "    </tr>\n",
       "    <tr>\n",
       "      <th>2022-07-31</th>\n",
       "      <td>1.578156</td>\n",
       "      <td>-0.542343</td>\n",
       "      <td>1.332091</td>\n",
       "      <td>1.031771</td>\n",
       "    </tr>\n",
       "    <tr>\n",
       "      <th>2022-08-01</th>\n",
       "      <td>0.023276</td>\n",
       "      <td>-0.178938</td>\n",
       "      <td>0.620372</td>\n",
       "      <td>-0.994165</td>\n",
       "    </tr>\n",
       "  </tbody>\n",
       "</table>\n",
       "</div>"
      ],
      "text/plain": [
       "                   A         B         C         D\n",
       "2022-07-27 -1.115718 -0.671506 -0.922049  0.408290\n",
       "2022-07-28 -1.678373 -0.930149 -0.221813 -1.721030\n",
       "2022-07-29  0.253641 -0.369561 -0.804516 -1.095727\n",
       "2022-07-30 -0.374743  0.221641  1.124470  1.549557\n",
       "2022-07-31  1.578156 -0.542343  1.332091  1.031771\n",
       "2022-08-01  0.023276 -0.178938  0.620372 -0.994165"
      ]
     },
     "execution_count": 19,
     "metadata": {},
     "output_type": "execute_result"
    }
   ],
   "source": [
    "df"
   ]
  },
  {
   "cell_type": "code",
   "execution_count": 20,
   "metadata": {},
   "outputs": [
    {
     "data": {
      "text/html": [
       "<div>\n",
       "<style scoped>\n",
       "    .dataframe tbody tr th:only-of-type {\n",
       "        vertical-align: middle;\n",
       "    }\n",
       "\n",
       "    .dataframe tbody tr th {\n",
       "        vertical-align: top;\n",
       "    }\n",
       "\n",
       "    .dataframe thead th {\n",
       "        text-align: right;\n",
       "    }\n",
       "</style>\n",
       "<table border=\"1\" class=\"dataframe\">\n",
       "  <thead>\n",
       "    <tr style=\"text-align: right;\">\n",
       "      <th></th>\n",
       "      <th>2022-07-27</th>\n",
       "      <th>2022-07-28</th>\n",
       "      <th>2022-07-29</th>\n",
       "      <th>2022-07-30</th>\n",
       "      <th>2022-07-31</th>\n",
       "      <th>2022-08-01</th>\n",
       "    </tr>\n",
       "  </thead>\n",
       "  <tbody>\n",
       "    <tr>\n",
       "      <th>A</th>\n",
       "      <td>-1.115718</td>\n",
       "      <td>-1.678373</td>\n",
       "      <td>0.253641</td>\n",
       "      <td>-0.374743</td>\n",
       "      <td>1.578156</td>\n",
       "      <td>0.023276</td>\n",
       "    </tr>\n",
       "    <tr>\n",
       "      <th>B</th>\n",
       "      <td>-0.671506</td>\n",
       "      <td>-0.930149</td>\n",
       "      <td>-0.369561</td>\n",
       "      <td>0.221641</td>\n",
       "      <td>-0.542343</td>\n",
       "      <td>-0.178938</td>\n",
       "    </tr>\n",
       "    <tr>\n",
       "      <th>C</th>\n",
       "      <td>-0.922049</td>\n",
       "      <td>-0.221813</td>\n",
       "      <td>-0.804516</td>\n",
       "      <td>1.124470</td>\n",
       "      <td>1.332091</td>\n",
       "      <td>0.620372</td>\n",
       "    </tr>\n",
       "    <tr>\n",
       "      <th>D</th>\n",
       "      <td>0.408290</td>\n",
       "      <td>-1.721030</td>\n",
       "      <td>-1.095727</td>\n",
       "      <td>1.549557</td>\n",
       "      <td>1.031771</td>\n",
       "      <td>-0.994165</td>\n",
       "    </tr>\n",
       "  </tbody>\n",
       "</table>\n",
       "</div>"
      ],
      "text/plain": [
       "   2022-07-27  2022-07-28  2022-07-29  2022-07-30  2022-07-31  2022-08-01\n",
       "A   -1.115718   -1.678373    0.253641   -0.374743    1.578156    0.023276\n",
       "B   -0.671506   -0.930149   -0.369561    0.221641   -0.542343   -0.178938\n",
       "C   -0.922049   -0.221813   -0.804516    1.124470    1.332091    0.620372\n",
       "D    0.408290   -1.721030   -1.095727    1.549557    1.031771   -0.994165"
      ]
     },
     "execution_count": 20,
     "metadata": {},
     "output_type": "execute_result"
    }
   ],
   "source": [
    "df.T"
   ]
  },
  {
   "cell_type": "code",
   "execution_count": null,
   "metadata": {},
   "outputs": [],
   "source": [
    "s2 = pd.Series([])"
   ]
  }
 ],
 "metadata": {
  "kernelspec": {
   "display_name": "Python 3.10.5 64-bit",
   "language": "python",
   "name": "python3"
  },
  "language_info": {
   "codemirror_mode": {
    "name": "ipython",
    "version": 3
   },
   "file_extension": ".py",
   "mimetype": "text/x-python",
   "name": "python",
   "nbconvert_exporter": "python",
   "pygments_lexer": "ipython3",
   "version": "3.10.5"
  },
  "orig_nbformat": 4,
  "vscode": {
   "interpreter": {
    "hash": "aee8b7b246df8f9039afb4144a1f6fd8d2ca17a180786b69acc140d282b71a49"
   }
  }
 },
 "nbformat": 4,
 "nbformat_minor": 2
}
