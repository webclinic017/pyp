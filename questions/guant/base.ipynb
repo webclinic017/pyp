{
 "cells": [
  {
   "cell_type": "markdown",
   "metadata": {},
   "source": [
    "## 需求分析\n",
    "1. 使用tushare包获取某股票的历史行情数据，并进行数据预处理\n",
    "2. 输出该股票所有收盘比开盘上涨3%以上的日期\n",
    "3. 输出该股票所有开盘比前日收盘跌幅超过2%的日期\n",
    "4. 假如我从2010年1月1日开始，每月第一个交易日买入一手股票，每年最后一个交易日卖出所有股票，到今天为止，我的收益如何？"
   ]
  },
  {
   "cell_type": "code",
   "execution_count": 1,
   "metadata": {},
   "outputs": [],
   "source": [
    "import numpy as np\n",
    "import pandas as pd\n",
    "from pandas import Series, DataFrame\n",
    "import tushare as ts"
   ]
  },
  {
   "cell_type": "code",
   "execution_count": 66,
   "metadata": {},
   "outputs": [
    {
     "name": "stdout",
     "output_type": "stream",
     "text": [
      "       ts_code trade_date   open   high    low  close  pre_close\n",
      "0    600036.SH   20211231  48.54  48.88  48.33  48.71      48.50\n",
      "1    600036.SH   20211230  47.89  48.78  47.66  48.50      47.62\n",
      "2    600036.SH   20211229  49.67  49.72  47.61  47.62      49.63\n",
      "3    600036.SH   20211228  49.33  49.80  49.20  49.63      49.33\n",
      "4    600036.SH   20211227  49.87  50.06  49.00  49.33      49.86\n",
      "..         ...        ...    ...    ...    ...    ...        ...\n",
      "481  600036.SH   20200108  38.95  38.95  38.41  38.41      39.15\n",
      "482  600036.SH   20200107  39.55  39.94  39.10  39.15      39.24\n",
      "483  600036.SH   20200106  39.19  40.16  38.90  39.24      39.40\n",
      "484  600036.SH   20200103  38.95  39.62  38.92  39.40      38.88\n",
      "485  600036.SH   20200102  38.03  39.12  38.02  38.88      37.58\n",
      "\n",
      "[486 rows x 7 columns]\n"
     ]
    }
   ],
   "source": [
    "pro = ts.pro_api(\"6848a1962cda9db1a4f7410fc876acaced030e98e635923e2d2fad66\")\n",
    "\n",
    "df = pro.daily(**{\n",
    "  'ts_code': \"600036.SH\",\n",
    "  'start_date': \"20200101\",\n",
    "  'end_date': \"20211231\",\n",
    "}, fields = [\n",
    "  'trade_date',\n",
    "  \"ts_code\",\n",
    "  \"open\",\n",
    "  'close',\n",
    "  'pre_close',\n",
    "  'high',\n",
    "  'low'\n",
    "])\n",
    "\n",
    "print(df)"
   ]
  },
  {
   "cell_type": "code",
   "execution_count": 67,
   "metadata": {},
   "outputs": [
    {
     "name": "stdout",
     "output_type": "stream",
     "text": [
      "       ts_code trade_date   open   high    low  close  pre_close\n",
      "36   600036.SH   20211111  50.55  52.87  50.46  52.82      50.63\n",
      "59   600036.SH   20211011  51.44  54.18  51.44  53.00      50.93\n",
      "62   600036.SH   20210929  49.95  52.17  49.61  51.56      50.42\n",
      "73   600036.SH   20210910  52.00  54.52  51.75  54.12      52.10\n",
      "80   600036.SH   20210901  48.88  50.95  48.60  50.79      48.96\n",
      "90   600036.SH   20210818  49.99  53.57  49.92  53.14      49.62\n",
      "97   600036.SH   20210809  47.58  50.00  47.58  49.06      47.59\n",
      "114  600036.SH   20210715  49.00  51.46  48.97  51.05      48.95\n",
      "124  600036.SH   20210701  54.21  56.00  53.80  56.00      54.19\n",
      "150  600036.SH   20210525  54.19  57.62  53.93  57.55      54.08\n",
      "173  600036.SH   20210419  49.90  51.78  49.50  51.77      49.74\n",
      "192  600036.SH   20210322  52.20  54.72  52.10  53.78      51.76\n",
      "199  600036.SH   20210311  50.00  52.25  50.00  51.97      49.25\n",
      "205  600036.SH   20210303  50.00  52.98  49.60  52.77      49.55\n",
      "237  600036.SH   20210111  46.58  49.17  46.49  48.42      46.60\n",
      "239  600036.SH   20210107  44.29  45.97  44.26  45.90      44.15\n",
      "240  600036.SH   20210106  42.10  44.20  42.00  44.15      42.18\n",
      "265  600036.SH   20201201  44.40  46.55  44.39  46.20      44.20\n",
      "301  600036.SH   20201012  36.40  37.65  36.30  37.56      36.18\n",
      "311  600036.SH   20200918  37.85  38.99  37.80  38.99      37.87\n",
      "326  600036.SH   20200828  36.85  38.45  36.60  38.45      36.90\n",
      "344  600036.SH   20200804  35.14  37.15  35.00  36.68      35.00\n",
      "355  600036.SH   20200720  36.10  37.45  35.85  37.27      36.08\n",
      "365  600036.SH   20200706  37.18  40.41  37.18  40.41      36.74\n",
      "366  600036.SH   20200703  35.40  36.76  35.35  36.74      35.30\n",
      "408  600036.SH   20200429  33.90  35.10  33.89  35.02      33.86\n",
      "435  600036.SH   20200320  29.80  31.11  29.80  31.04      29.31\n",
      "446  600036.SH   20200305  34.99  36.32  34.80  36.23      34.78\n",
      "469  600036.SH   20200203  33.80  35.50  33.80  35.03      36.81\n"
     ]
    }
   ],
   "source": [
    "search_up = (df['close'] - df['open']) / df['open'] > 0.03\n",
    "print(df[search_up])"
   ]
  },
  {
   "cell_type": "code",
   "execution_count": 68,
   "metadata": {},
   "outputs": [
    {
     "name": "stdout",
     "output_type": "stream",
     "text": [
      "       ts_code trade_date   open   high    low  close  pre_close\n",
      "67   600036.SH   20210922  48.68  49.98  48.10  49.41      51.25\n",
      "434  600036.SH   20200323  30.01  30.51  29.88  30.16      31.04\n",
      "440  600036.SH   20200313  32.80  33.56  32.40  33.41      34.16\n",
      "469  600036.SH   20200203  33.80  35.50  33.80  35.03      36.81\n"
     ]
    }
   ],
   "source": [
    "search_down = (df['open'] - df['pre_close']) / df['pre_close'] < -0.02\n",
    "\n",
    "print(df[search_down])"
   ]
  },
  {
   "cell_type": "code",
   "execution_count": 69,
   "metadata": {},
   "outputs": [
    {
     "name": "stdout",
     "output_type": "stream",
     "text": [
      "       ts_code trade_date   open   high    low  close  pre_close\n",
      "0    600036.SH 2021-12-31  48.54  48.88  48.33  48.71      48.50\n",
      "1    600036.SH 2021-12-30  47.89  48.78  47.66  48.50      47.62\n",
      "2    600036.SH 2021-12-29  49.67  49.72  47.61  47.62      49.63\n",
      "3    600036.SH 2021-12-28  49.33  49.80  49.20  49.63      49.33\n",
      "4    600036.SH 2021-12-27  49.87  50.06  49.00  49.33      49.86\n",
      "..         ...        ...    ...    ...    ...    ...        ...\n",
      "481  600036.SH 2020-01-08  38.95  38.95  38.41  38.41      39.15\n",
      "482  600036.SH 2020-01-07  39.55  39.94  39.10  39.15      39.24\n",
      "483  600036.SH 2020-01-06  39.19  40.16  38.90  39.24      39.40\n",
      "484  600036.SH 2020-01-03  38.95  39.62  38.92  39.40      38.88\n",
      "485  600036.SH 2020-01-02  38.03  39.12  38.02  38.88      37.58\n",
      "\n",
      "[486 rows x 7 columns]\n"
     ]
    }
   ],
   "source": [
    "df['trade_date'] = pd.to_datetime(df['trade_date'], format=\"%Y%m%d\")\n",
    "print(df)"
   ]
  },
  {
   "cell_type": "code",
   "execution_count": 70,
   "metadata": {},
   "outputs": [
    {
     "name": "stdout",
     "output_type": "stream",
     "text": [
      "              ts_code   open   high    low  close  pre_close\n",
      "trade_date                                                  \n",
      "2021-12-31  600036.SH  48.54  48.88  48.33  48.71      48.50\n",
      "2021-12-30  600036.SH  47.89  48.78  47.66  48.50      47.62\n",
      "2021-12-29  600036.SH  49.67  49.72  47.61  47.62      49.63\n",
      "2021-12-28  600036.SH  49.33  49.80  49.20  49.63      49.33\n",
      "2021-12-27  600036.SH  49.87  50.06  49.00  49.33      49.86\n",
      "...               ...    ...    ...    ...    ...        ...\n",
      "2020-01-08  600036.SH  38.95  38.95  38.41  38.41      39.15\n",
      "2020-01-07  600036.SH  39.55  39.94  39.10  39.15      39.24\n",
      "2020-01-06  600036.SH  39.19  40.16  38.90  39.24      39.40\n",
      "2020-01-03  600036.SH  38.95  39.62  38.92  39.40      38.88\n",
      "2020-01-02  600036.SH  38.03  39.12  38.02  38.88      37.58\n",
      "\n",
      "[486 rows x 6 columns]\n"
     ]
    }
   ],
   "source": [
    "df.set_index('trade_date', inplace=True)\n",
    "print(df)"
   ]
  },
  {
   "cell_type": "code",
   "execution_count": 72,
   "metadata": {},
   "outputs": [
    {
     "name": "stderr",
     "output_type": "stream",
     "text": [
      "/var/folders/4l/5d0kf6yx68n51tswgt17s0y40000gn/T/ipykernel_44624/3468128452.py:1: FutureWarning: Value based partial slicing on non-monotonic DatetimeIndexes with non-existing keys is deprecated and will raise a KeyError in a future Version.\n",
      "  new_df = df['2020-01':'2021-12']\n"
     ]
    },
    {
     "data": {
      "text/plain": [
       "104483.0"
      ]
     },
     "execution_count": 72,
     "metadata": {},
     "output_type": "execute_result"
    }
   ],
   "source": [
    "new_df = df['2020-01':'2021-12']\n",
    "df_monthly = new_df.resample('MS').first()\n",
    "cost = df_monthly['open'].sum() * 100\n",
    "cost"
   ]
  },
  {
   "cell_type": "code",
   "execution_count": 73,
   "metadata": {},
   "outputs": [
    {
     "data": {
      "text/html": [
       "<div>\n",
       "<style scoped>\n",
       "    .dataframe tbody tr th:only-of-type {\n",
       "        vertical-align: middle;\n",
       "    }\n",
       "\n",
       "    .dataframe tbody tr th {\n",
       "        vertical-align: top;\n",
       "    }\n",
       "\n",
       "    .dataframe thead th {\n",
       "        text-align: right;\n",
       "    }\n",
       "</style>\n",
       "<table border=\"1\" class=\"dataframe\">\n",
       "  <thead>\n",
       "    <tr style=\"text-align: right;\">\n",
       "      <th></th>\n",
       "      <th>ts_code</th>\n",
       "      <th>open</th>\n",
       "      <th>high</th>\n",
       "      <th>low</th>\n",
       "      <th>close</th>\n",
       "      <th>pre_close</th>\n",
       "    </tr>\n",
       "    <tr>\n",
       "      <th>trade_date</th>\n",
       "      <th></th>\n",
       "      <th></th>\n",
       "      <th></th>\n",
       "      <th></th>\n",
       "      <th></th>\n",
       "      <th></th>\n",
       "    </tr>\n",
       "  </thead>\n",
       "  <tbody>\n",
       "    <tr>\n",
       "      <th>2020-12-31</th>\n",
       "      <td>600036.SH</td>\n",
       "      <td>43.05</td>\n",
       "      <td>44.35</td>\n",
       "      <td>42.85</td>\n",
       "      <td>43.95</td>\n",
       "      <td>43.05</td>\n",
       "    </tr>\n",
       "    <tr>\n",
       "      <th>2021-12-31</th>\n",
       "      <td>600036.SH</td>\n",
       "      <td>48.54</td>\n",
       "      <td>48.88</td>\n",
       "      <td>48.33</td>\n",
       "      <td>48.71</td>\n",
       "      <td>48.50</td>\n",
       "    </tr>\n",
       "  </tbody>\n",
       "</table>\n",
       "</div>"
      ],
      "text/plain": [
       "              ts_code   open   high    low  close  pre_close\n",
       "trade_date                                                  \n",
       "2020-12-31  600036.SH  43.05  44.35  42.85  43.95      43.05\n",
       "2021-12-31  600036.SH  48.54  48.88  48.33  48.71      48.50"
      ]
     },
     "execution_count": 73,
     "metadata": {},
     "output_type": "execute_result"
    }
   ],
   "source": [
    "df_yearly = new_df.resample(\"A\").last()\n",
    "df_yearly"
   ]
  },
  {
   "cell_type": "code",
   "execution_count": 74,
   "metadata": {},
   "outputs": [
    {
     "name": "stdout",
     "output_type": "stream",
     "text": [
      "12013.0\n"
     ]
    }
   ],
   "source": [
    "print(48.54 * 2400 - cost)"
   ]
  },
  {
   "cell_type": "code",
   "execution_count": null,
   "metadata": {},
   "outputs": [],
   "source": []
  }
 ],
 "metadata": {
  "kernelspec": {
   "display_name": "Python 3.10.5 64-bit",
   "language": "python",
   "name": "python3"
  },
  "language_info": {
   "codemirror_mode": {
    "name": "ipython",
    "version": 3
   },
   "file_extension": ".py",
   "mimetype": "text/x-python",
   "name": "python",
   "nbconvert_exporter": "python",
   "pygments_lexer": "ipython3",
   "version": "3.10.5"
  },
  "orig_nbformat": 4,
  "vscode": {
   "interpreter": {
    "hash": "aee8b7b246df8f9039afb4144a1f6fd8d2ca17a180786b69acc140d282b71a49"
   }
  }
 },
 "nbformat": 4,
 "nbformat_minor": 2
}
